{
 "cells": [
  {
   "metadata": {},
   "cell_type": "markdown",
   "source": "",
   "id": "a3fbcc4f1469b0ed"
  },
  {
   "metadata": {
    "ExecuteTime": {
     "end_time": "2025-04-17T08:34:32.489735Z",
     "start_time": "2025-04-17T08:34:32.487085Z"
    }
   },
   "cell_type": "code",
   "source": "",
   "id": "2725a19291239ace",
   "outputs": [],
   "execution_count": null
  },
  {
   "metadata": {
    "ExecuteTime": {
     "end_time": "2025-04-17T08:34:30.733919Z",
     "start_time": "2025-04-17T08:34:30.709747Z"
    }
   },
   "cell_type": "code",
   "source": "\n",
   "id": "45c946278b20ab3c",
   "outputs": [],
   "execution_count": 5
  }
 ],
 "metadata": {
  "kernelspec": {
   "display_name": "Python 3",
   "language": "python",
   "name": "python3"
  },
  "language_info": {
   "codemirror_mode": {
    "name": "ipython",
    "version": 2
   },
   "file_extension": ".py",
   "mimetype": "text/x-python",
   "name": "python",
   "nbconvert_exporter": "python",
   "pygments_lexer": "ipython2",
   "version": "2.7.6"
  }
 },
 "nbformat": 4,
 "nbformat_minor": 5
}
